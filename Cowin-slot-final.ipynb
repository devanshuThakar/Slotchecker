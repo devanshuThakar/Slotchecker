{
 "cells": [
  {
   "cell_type": "code",
   "execution_count": 1,
   "metadata": {},
   "outputs": [],
   "source": [
    "import requests\n",
    "import datetime\n",
    "import json \n",
    "import pandas as pd\n",
    "import time\n",
    "\n",
    "# faking chrome browser\n",
    "browser_header = {'User-Agent': 'Mozilla/5.0 (Windows NT 6.1; WOW64) AppleWebKit/537.36 (KHTML, like Gecko) Chrome/56.0.2924.76 Safari/537.36'}\n",
    "\n",
    "PIN = \"380008\"\n",
    "# base = datetime.datetime.today()\n",
    "# date_list = [base + datetime.timedelta(days=x) for x in range(numdays)]\n",
    "# date_str = [x.strftime(\"%d-%m-%Y\") for x in date_list]\n",
    "\n",
    "\n",
    "# url = \"https://cdn-api.co-vin.in/api/v2/appointment/sessions/public/calendarByPin?pincode={}&date={}\".format(PIN, DATE)\n",
    "# response = requests.get(url, headers=browser_header)\n",
    "# PIN = \"380050\"\n",
    "# url = \"https://cdn-api.co-vin.in/api/v2/appointment/sessions/public/calendarByPin?pincode={}&date={}\".format(PIN, DATE)\n",
    "# response2 =  requests.get(url, headers=browser_header)\n",
    "\n",
    "# data = response.text\n",
    "# data = response.json()\n",
    "# print(data)"
   ]
  },
  {
   "cell_type": "code",
   "execution_count": 2,
   "metadata": {},
   "outputs": [],
   "source": [
    "# if (response.ok) and ('centers' in json.loads(response.text)):\n",
    "#         resp_json = json.loads(response.text)['centers']\n",
    "# if resp_json is not None:\n",
    "#         df = pd.DataFrame(resp_json)\n",
    "# if len(df):\n",
    "# #     df = df.explode(\"sessions\")\n",
    "#     df['min_age_limit'] = df.sessions.apply(lambda x: x['min_age_limit'])\n",
    "#     df['vaccine'] = df.sessions.apply(lambda x: x['vaccine'])\n",
    "#     df['available_capacity'] = df.sessions.apply(lambda x: x['available_capacity'])\n",
    "#     df['date'] = df.sessions.apply(lambda x: x['date'])\n",
    "#     df = df[[\"date\", \"available_capacity\", \"vaccine\", \"min_age_limit\", \"pincode\", \"name\", \"state_name\", \"district_name\", \"block_name\", \"fee_type\"]]\n",
    "#     if final_df is not None:\n",
    "#         final_df = pd.concat([final_df, df])\n",
    "#     else:\n",
    "#         final_df = deepcopy(df)\n",
    "# else:\n",
    "#     st.error(\"No rows in the data Extracted from the API\")\n",
    "\n",
    "# print(type(data))\n",
    "# print(data[\"centers\"])\n",
    "# df = pd.read_json(data[\"centers\"])\n",
    "# df = pd.read_json(response)\n",
    "# df = pd.DataFrame(list(data[\"centers\"].items()))\n",
    "###################################################\n",
    "# print(data[\"centers\"][0])\n",
    "# print(\"####\")\n",
    "# print(data[\"centers\"][0]['name'])\n",
    "# print(\"######\")\n",
    "# print(data[\"centers\"][0]['sessions'][0])\n",
    "# for center in data[\"centers\"]:\n",
    "#     print(center['name'] + \" - \" + center['sessions'][0]['date'] + \" - \" + str(center['sessions'][0]['available_capacity']))\n",
    "# print(\"Last Checked \" + str(base))\n",
    "        "
   ]
  },
  {
   "cell_type": "code",
   "execution_count": null,
   "metadata": {},
   "outputs": [
    {
     "name": "stdout",
     "output_type": "stream",
     "text": [
      "Swaminarayan Temple Maninagar - 09-05-2021 - 0\n",
      "Khokhara Public School - 09-05-2021 - 0\n",
      "Khokhra Urban Health Center - 10-05-2021 - 0\n",
      "Maninagar Gujarati Shala No.-6 - 10-05-2021 - 0\n",
      "Maninagar Urban Health Center - 10-05-2021 - 0\n",
      "Swaminarayan Temple Maninagar - 10-05-2021 - 0\n",
      "Khokhra Urban Health Center - 10-05-2021 - 0\n",
      "Khokhara Public School - 10-05-2021 - 0\n",
      "Maninagar Gujarati Shala No.-6 - 10-05-2021 - 0\n",
      "Maninagar Urban Health Center - 10-05-2021 - 0\n",
      "Last Checked 2021-05-09 17:44:04.659414\n",
      "\n",
      "\n"
     ]
    }
   ],
   "source": [
    "notDone = True\n",
    "cnt = 0\n",
    "num_ranges = 2\n",
    "while notDone:\n",
    "    base = datetime.datetime.today()\n",
    "    date_list = [base + datetime.timedelta(days=x) for x in range(num_ranges)]\n",
    "    date_str = [x.strftime(\"%d-%m-%Y\") for x in date_list]\n",
    "    for date in date_str:\n",
    "        url = \"https://cdn-api.co-vin.in/api/v2/appointment/sessions/public/calendarByPin?pincode={}&date={}\".format(PIN, date)\n",
    "        response = requests.get(url, headers=browser_header)\n",
    "        data = response.json()\n",
    "\n",
    "    #     print(data[\"centers\"][0])\n",
    "    #     print(\"####\")\n",
    "    #     print(data[\"centers\"][0]['name'])\n",
    "    #     print(\"######\")\n",
    "    #     print(data[\"centers\"][0]['sessions'][0])\n",
    "        for center in data[\"centers\"]:\n",
    "            if(center['sessions'][0]['available_capacity'] > 0):\n",
    "                break\n",
    "            print(center['name'] + \" - \" + center['sessions'][0]['date'] + \" - \" + str(center['sessions'][0]['available_capacity']))\n",
    "    print(\"Last Checked \" + str(base))\n",
    "    cnt+=1\n",
    "    print('\\n')\n",
    "    time.sleep(30)\n",
    "\n",
    "    "
   ]
  },
  {
   "cell_type": "code",
   "execution_count": 5,
   "metadata": {},
   "outputs": [
    {
     "name": "stdout",
     "output_type": "stream",
     "text": [
      "<class 'dict'>\n"
     ]
    }
   ],
   "source": [
    "print(type(data))"
   ]
  },
  {
   "cell_type": "code",
   "execution_count": null,
   "metadata": {},
   "outputs": [],
   "source": []
  }
 ],
 "metadata": {
  "kernelspec": {
   "display_name": "Python 3",
   "language": "python",
   "name": "python3"
  },
  "language_info": {
   "codemirror_mode": {
    "name": "ipython",
    "version": 3
   },
   "file_extension": ".py",
   "mimetype": "text/x-python",
   "name": "python",
   "nbconvert_exporter": "python",
   "pygments_lexer": "ipython3",
   "version": "3.7.3"
  }
 },
 "nbformat": 4,
 "nbformat_minor": 2
}
